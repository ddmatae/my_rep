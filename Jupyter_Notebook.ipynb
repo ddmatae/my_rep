{
 "cells": [
  {
   "cell_type": "markdown",
   "id": "4b8fa85f-3fe3-47c0-9d8a-28ac5143e692",
   "metadata": {
    "tags": []
   },
   "source": [
    "# My Jupyter Notebook on IBM Watson Studio"
   ]
  },
  {
   "cell_type": "markdown",
   "id": "f0c00a88-7aa1-4cb4-85c7-d1f1157ca718",
   "metadata": {},
   "source": [
    "__Daniel Euzebio\n",
    "Data Scientist__"
   ]
  },
  {
   "cell_type": "markdown",
   "id": "973b480c-d403-4c8b-a1eb-ef525d315449",
   "metadata": {},
   "source": [
    "*I am interested in data science because it's the ultimate way to increase productivity*"
   ]
  },
  {
   "cell_type": "markdown",
   "id": "fa1d52b4-d50e-42d7-923e-29d07bbeeaf5",
   "metadata": {},
   "source": [
    "### the following code takes one number and adds 2"
   ]
  },
  {
   "cell_type": "code",
   "execution_count": 5,
   "id": "66720925-b230-4e5c-884f-a6ce5ffd716f",
   "metadata": {},
   "outputs": [],
   "source": [
    "def add(n):\n",
    "    return (n+2)"
   ]
  },
  {
   "cell_type": "code",
   "execution_count": 6,
   "id": "150dc017-af77-4836-b784-0d8e32e2623d",
   "metadata": {},
   "outputs": [
    {
     "data": {
      "text/plain": [
       "4"
      ]
     },
     "execution_count": 6,
     "metadata": {},
     "output_type": "execute_result"
    }
   ],
   "source": [
    "add(2)"
   ]
  },
  {
   "cell_type": "markdown",
   "id": "c68df3cf-7d79-41b3-a49d-f99b6eaffe44",
   "metadata": {},
   "source": [
    "Nice | Nice1 | Nice2\n",
    "--- | --- | ---\n",
    "*Nice* | `cool` | **nicely**\n",
    "1 | 2 | 3"
   ]
  },
  {
   "cell_type": "markdown",
   "id": "d1c0333a-44bb-4455-9bb0-c15a40ccd8d6",
   "metadata": {},
   "source": [
    "* This is a bullet list\n",
    "* This is a bullet list\n",
    "* This is a bullet list"
   ]
  },
  {
   "cell_type": "code",
   "execution_count": null,
   "id": "afdb3688-32db-4103-94d3-7e1b073c3b5a",
   "metadata": {},
   "outputs": [],
   "source": []
  }
 ],
 "metadata": {
  "kernelspec": {
   "display_name": "Python",
   "language": "python",
   "name": "conda-env-python-py"
  },
  "language_info": {
   "codemirror_mode": {
    "name": "ipython",
    "version": 3
   },
   "file_extension": ".py",
   "mimetype": "text/x-python",
   "name": "python",
   "nbconvert_exporter": "python",
   "pygments_lexer": "ipython3",
   "version": "3.7.12"
  }
 },
 "nbformat": 4,
 "nbformat_minor": 5
}
